{
 "cells": [
  {
   "cell_type": "code",
   "execution_count": 1,
   "metadata": {},
   "outputs": [
    {
     "name": "stderr",
     "output_type": "stream",
     "text": [
      "2023-04-23 11:35:44.339262: I tensorflow/core/platform/cpu_feature_guard.cc:193] This TensorFlow binary is optimized with oneAPI Deep Neural Network Library (oneDNN) to use the following CPU instructions in performance-critical operations:  SSE4.1 SSE4.2 AVX AVX2 FMA\n",
      "To enable them in other operations, rebuild TensorFlow with the appropriate compiler flags.\n"
     ]
    }
   ],
   "source": [
    "import os\n",
    "import sys\n",
    "from sys import path as sys_path\n",
    "\n",
    "curr_dir = os.getcwd()\n",
    "#check in the order sub-directory to main-directory\n",
    "if 'autoencoder_lstm' in  curr_dir:\n",
    "    os.chdir('..')\n",
    "if 'models' in curr_dir in curr_dir:\n",
    "    pass\n",
    "elif 'bearing-vibration-anomaly-detection' in curr_dir:\n",
    "    os.chdir('./models')\n",
    "curr_dir = os.getcwd()\n",
    "sys_path.insert(0, curr_dir)\n",
    "\n",
    "from model_feedinput_pipeline import CODE_ENV, DATASET_ID\n",
    "from model_feedinput_pipeline import get_dataset_paths, get_df\n",
    "from autoencoder_lstm.autoencoder_lstm_generate_features import get_time_feature\n",
    "from autoencoder_lstm.Bvad_AutoEncoder import Bvad_AutoEncoder\n",
    "from autoencoder_lstm.ScalerWrapper import ScalerWrapper\n",
    "\n",
    "from autoencoder_lstm.autoencoder_lstm_main import select_columns, time_feature_data_filename, dataset_id_mapping, cut_off_date_time, scaler_filenames\n",
    "import autoencoder_lstm.autoencoder_lstm_main as autoencoder_lstm_main"
   ]
  },
  {
   "cell_type": "markdown",
   "metadata": {},
   "source": [
    " # Training"
   ]
  },
  {
   "cell_type": "code",
   "execution_count": 2,
   "metadata": {},
   "outputs": [
    {
     "name": "stdout",
     "output_type": "stream",
     "text": [
      "Processed  0  out of  2156\n",
      "Processed  10  out of  2156\n",
      "Processed  20  out of  2156\n",
      "Processed  30  out of  2156\n",
      "Processed  40  out of  2156\n",
      "Processed  50  out of  2156\n",
      "Processed  60  out of  2156\n",
      "Processed  70  out of  2156\n",
      "Processed  80  out of  2156\n",
      "Processed  90  out of  2156\n",
      "Processed  100  out of  2156\n",
      "Processed  110  out of  2156\n",
      "Processed  120  out of  2156\n",
      "Processed  130  out of  2156\n",
      "Processed  140  out of  2156\n",
      "Processed  150  out of  2156\n",
      "Processed  160  out of  2156\n",
      "Processed  170  out of  2156\n",
      "Processed  180  out of  2156\n",
      "Processed  190  out of  2156\n",
      "Processed  200  out of  2156\n",
      "Processed  210  out of  2156\n",
      "Processed  220  out of  2156\n",
      "Processed  230  out of  2156\n",
      "Processed  240  out of  2156\n",
      "Processed  250  out of  2156\n",
      "Processed  260  out of  2156\n",
      "Processed  270  out of  2156\n",
      "Processed  280  out of  2156\n",
      "Processed  290  out of  2156\n",
      "Processed  300  out of  2156\n",
      "Processed  310  out of  2156\n",
      "Processed  320  out of  2156\n",
      "Processed  330  out of  2156\n",
      "Processed  340  out of  2156\n",
      "Processed  350  out of  2156\n",
      "Processed  360  out of  2156\n",
      "Processed  370  out of  2156\n",
      "Processed  380  out of  2156\n",
      "Processed  390  out of  2156\n",
      "Processed  400  out of  2156\n",
      "Processed  410  out of  2156\n",
      "Processed  420  out of  2156\n",
      "Processed  430  out of  2156\n",
      "Processed  440  out of  2156\n",
      "Processed  450  out of  2156\n",
      "Processed  460  out of  2156\n",
      "Processed  470  out of  2156\n",
      "Processed  480  out of  2156\n",
      "Processed  490  out of  2156\n",
      "Processed  500  out of  2156\n",
      "Processed  510  out of  2156\n",
      "Processed  520  out of  2156\n"
     ]
    },
    {
     "ename": "KeyboardInterrupt",
     "evalue": "",
     "output_type": "error",
     "traceback": [
      "\u001b[0;31m---------------------------------------------------------------------------\u001b[0m",
      "\u001b[0;31mKeyboardInterrupt\u001b[0m                         Traceback (most recent call last)",
      "Cell \u001b[0;32mIn[2], line 9\u001b[0m\n\u001b[1;32m      5\u001b[0m curr_dataset \u001b[39m=\u001b[39m DATASET_ID\u001b[39m.\u001b[39mSecond\n\u001b[1;32m      7\u001b[0m dataset_paths \u001b[39m=\u001b[39m get_dataset_paths(code_env)\n\u001b[0;32m----> 9\u001b[0m autoencoder_lstm_main\u001b[39m.\u001b[39;49mmain_generate_timefeatures(code_env)\n\u001b[1;32m     11\u001b[0m autoencoder_lstm_main\u001b[39m.\u001b[39mmain_generate_scalers()\n",
      "File \u001b[0;32m~/workspace/github/bearing-vibration-anomaly-detection/models/autoencoder_lstm/autoencoder_lstm_main.py:70\u001b[0m, in \u001b[0;36mmain_generate_timefeatures\u001b[0;34m(code_env)\u001b[0m\n\u001b[1;32m     68\u001b[0m dataset_paths \u001b[39m=\u001b[39m get_dataset_paths(code_env)\n\u001b[1;32m     69\u001b[0m \u001b[39mfor\u001b[39;00m i \u001b[39min\u001b[39;00m \u001b[39mrange\u001b[39m(\u001b[39mlen\u001b[39m(select_columns)):\n\u001b[0;32m---> 70\u001b[0m     time_feature_data \u001b[39m=\u001b[39m get_time_features(code_env, dataset_paths, dataset_id_mapping[i], select_columns[i])\n\u001b[1;32m     71\u001b[0m     time_feature_data\u001b[39m.\u001b[39mto_csv(time_feature_data_filename[i])\n\u001b[1;32m     73\u001b[0m \u001b[39mreturn\u001b[39;00m\n",
      "File \u001b[0;32m~/workspace/github/bearing-vibration-anomaly-detection/models/autoencoder_lstm/autoencoder_lstm_generate_features.py:122\u001b[0m, in \u001b[0;36mget_time_features\u001b[0;34m(code_env, dataset_details, id, select_columns)\u001b[0m\n\u001b[1;32m    119\u001b[0m \u001b[39mfor\u001b[39;00m fileindex, filepath \u001b[39min\u001b[39;00m \u001b[39menumerate\u001b[39m(dataset_details[\u001b[39mid\u001b[39m][\u001b[39m'\u001b[39m\u001b[39mpaths\u001b[39m\u001b[39m'\u001b[39m]):\n\u001b[1;32m    120\u001b[0m     \u001b[39m#get time feature\u001b[39;00m\n\u001b[1;32m    121\u001b[0m     feature_columns\u001b[39m=\u001b[39m[\u001b[39m'\u001b[39m\u001b[39mB1\u001b[39m\u001b[39m'\u001b[39m, \u001b[39m'\u001b[39m\u001b[39mB2\u001b[39m\u001b[39m'\u001b[39m, \u001b[39m'\u001b[39m\u001b[39mB3\u001b[39m\u001b[39m'\u001b[39m, \u001b[39m'\u001b[39m\u001b[39mB4\u001b[39m\u001b[39m'\u001b[39m]\n\u001b[0;32m--> 122\u001b[0m     df \u001b[39m=\u001b[39m get_time_feature(code_env, dataset_details, \u001b[39mid\u001b[39;49m, fileindex, select_columns, feature_columns)\n\u001b[1;32m    123\u001b[0m     \u001b[39m#concat with previous set\u001b[39;00m\n\u001b[1;32m    124\u001b[0m     data \u001b[39m=\u001b[39m pd\u001b[39m.\u001b[39mconcat([data, df], axis\u001b[39m=\u001b[39m\u001b[39m0\u001b[39m)\n",
      "File \u001b[0;32m~/workspace/github/bearing-vibration-anomaly-detection/models/autoencoder_lstm/autoencoder_lstm_generate_features.py:87\u001b[0m, in \u001b[0;36mget_time_feature\u001b[0;34m(code_env, dataset_details, id, fileindex, select_columns, feature_columns)\u001b[0m\n\u001b[1;32m     85\u001b[0m skew \u001b[39m=\u001b[39m raw_data\u001b[39m.\u001b[39mskew()\u001b[39m.\u001b[39mto_numpy()\u001b[39m.\u001b[39mreshape(\u001b[39m1\u001b[39m,\u001b[39mlen\u001b[39m(feature_columns))\n\u001b[1;32m     86\u001b[0m kurtosis \u001b[39m=\u001b[39m raw_data\u001b[39m.\u001b[39mkurtosis()\u001b[39m.\u001b[39mto_numpy()\u001b[39m.\u001b[39mreshape(\u001b[39m1\u001b[39m,\u001b[39mlen\u001b[39m(feature_columns))\n\u001b[0;32m---> 87\u001b[0m entropy \u001b[39m=\u001b[39m calculate_entropy(raw_data)\u001b[39m.\u001b[39mreshape(\u001b[39m1\u001b[39m,\u001b[39mlen\u001b[39m(feature_columns))\n\u001b[1;32m     88\u001b[0m rms \u001b[39m=\u001b[39m calculate_rms(raw_data)\u001b[39m.\u001b[39mreshape(\u001b[39m1\u001b[39m,\u001b[39mlen\u001b[39m(feature_columns))\n\u001b[1;32m     89\u001b[0m max_abs\u001b[39m=\u001b[39mraw_data\u001b[39m.\u001b[39mabs()\u001b[39m.\u001b[39mmax()\u001b[39m.\u001b[39mto_numpy()\u001b[39m.\u001b[39mreshape(\u001b[39m1\u001b[39m,\u001b[39mlen\u001b[39m(feature_columns))\n",
      "File \u001b[0;32m~/workspace/github/bearing-vibration-anomaly-detection/models/autoencoder_lstm/autoencoder_lstm_generate_features.py:51\u001b[0m, in \u001b[0;36mcalculate_entropy\u001b[0;34m(df)\u001b[0m\n\u001b[1;32m     49\u001b[0m ent \u001b[39m=\u001b[39m []\n\u001b[1;32m     50\u001b[0m \u001b[39mfor\u001b[39;00m col \u001b[39min\u001b[39;00m df:\n\u001b[0;32m---> 51\u001b[0m     ent\u001b[39m.\u001b[39mappend(entropy(pd\u001b[39m.\u001b[39;49mcut(df[col], \u001b[39m500\u001b[39;49m)\u001b[39m.\u001b[39mvalue_counts()))\n\u001b[1;32m     52\u001b[0m \u001b[39mreturn\u001b[39;00m np\u001b[39m.\u001b[39marray(ent)\n",
      "File \u001b[0;32m~/miniconda3/envs/cds/lib/python3.10/site-packages/pandas/core/reshape/tile.py:293\u001b[0m, in \u001b[0;36mcut\u001b[0;34m(x, bins, right, labels, retbins, precision, include_lowest, duplicates, ordered)\u001b[0m\n\u001b[1;32m    290\u001b[0m     \u001b[39mif\u001b[39;00m (np\u001b[39m.\u001b[39mdiff(bins\u001b[39m.\u001b[39mastype(\u001b[39m\"\u001b[39m\u001b[39mfloat64\u001b[39m\u001b[39m\"\u001b[39m)) \u001b[39m<\u001b[39m \u001b[39m0\u001b[39m)\u001b[39m.\u001b[39many():\n\u001b[1;32m    291\u001b[0m         \u001b[39mraise\u001b[39;00m \u001b[39mValueError\u001b[39;00m(\u001b[39m\"\u001b[39m\u001b[39mbins must increase monotonically.\u001b[39m\u001b[39m\"\u001b[39m)\n\u001b[0;32m--> 293\u001b[0m fac, bins \u001b[39m=\u001b[39m _bins_to_cuts(\n\u001b[1;32m    294\u001b[0m     x,\n\u001b[1;32m    295\u001b[0m     bins,\n\u001b[1;32m    296\u001b[0m     right\u001b[39m=\u001b[39;49mright,\n\u001b[1;32m    297\u001b[0m     labels\u001b[39m=\u001b[39;49mlabels,\n\u001b[1;32m    298\u001b[0m     precision\u001b[39m=\u001b[39;49mprecision,\n\u001b[1;32m    299\u001b[0m     include_lowest\u001b[39m=\u001b[39;49minclude_lowest,\n\u001b[1;32m    300\u001b[0m     dtype\u001b[39m=\u001b[39;49mdtype,\n\u001b[1;32m    301\u001b[0m     duplicates\u001b[39m=\u001b[39;49mduplicates,\n\u001b[1;32m    302\u001b[0m     ordered\u001b[39m=\u001b[39;49mordered,\n\u001b[1;32m    303\u001b[0m )\n\u001b[1;32m    305\u001b[0m \u001b[39mreturn\u001b[39;00m _postprocess_for_cut(fac, bins, retbins, dtype, original)\n",
      "File \u001b[0;32m~/miniconda3/envs/cds/lib/python3.10/site-packages/pandas/core/reshape/tile.py:444\u001b[0m, in \u001b[0;36m_bins_to_cuts\u001b[0;34m(x, bins, right, labels, precision, include_lowest, dtype, duplicates, ordered)\u001b[0m\n\u001b[1;32m    438\u001b[0m     \u001b[39mraise\u001b[39;00m \u001b[39mValueError\u001b[39;00m(\n\u001b[1;32m    439\u001b[0m         \u001b[39m\"\u001b[39m\u001b[39mBin labels must either be False, None or passed in as a \u001b[39m\u001b[39m\"\u001b[39m\n\u001b[1;32m    440\u001b[0m         \u001b[39m\"\u001b[39m\u001b[39mlist-like argument\u001b[39m\u001b[39m\"\u001b[39m\n\u001b[1;32m    441\u001b[0m     )\n\u001b[1;32m    443\u001b[0m \u001b[39melif\u001b[39;00m labels \u001b[39mis\u001b[39;00m \u001b[39mNone\u001b[39;00m:\n\u001b[0;32m--> 444\u001b[0m     labels \u001b[39m=\u001b[39m _format_labels(\n\u001b[1;32m    445\u001b[0m         bins, precision, right\u001b[39m=\u001b[39;49mright, include_lowest\u001b[39m=\u001b[39;49minclude_lowest, dtype\u001b[39m=\u001b[39;49mdtype\n\u001b[1;32m    446\u001b[0m     )\n\u001b[1;32m    447\u001b[0m \u001b[39melif\u001b[39;00m ordered \u001b[39mand\u001b[39;00m \u001b[39mlen\u001b[39m(\u001b[39mset\u001b[39m(labels)) \u001b[39m!=\u001b[39m \u001b[39mlen\u001b[39m(labels):\n\u001b[1;32m    448\u001b[0m     \u001b[39mraise\u001b[39;00m \u001b[39mValueError\u001b[39;00m(\n\u001b[1;32m    449\u001b[0m         \u001b[39m\"\u001b[39m\u001b[39mlabels must be unique if ordered=True; pass ordered=False \u001b[39m\u001b[39m\"\u001b[39m\n\u001b[1;32m    450\u001b[0m         \u001b[39m\"\u001b[39m\u001b[39mfor duplicate labels\u001b[39m\u001b[39m\"\u001b[39m\n\u001b[1;32m    451\u001b[0m     )\n",
      "File \u001b[0;32m~/miniconda3/envs/cds/lib/python3.10/site-packages/pandas/core/reshape/tile.py:578\u001b[0m, in \u001b[0;36m_format_labels\u001b[0;34m(bins, precision, right, include_lowest, dtype)\u001b[0m\n\u001b[1;32m    576\u001b[0m     adjust \u001b[39m=\u001b[39m \u001b[39mlambda\u001b[39;00m x: x \u001b[39m-\u001b[39m Timedelta(\u001b[39m\"\u001b[39m\u001b[39m1ns\u001b[39m\u001b[39m\"\u001b[39m)\n\u001b[1;32m    577\u001b[0m \u001b[39melse\u001b[39;00m:\n\u001b[0;32m--> 578\u001b[0m     precision \u001b[39m=\u001b[39m _infer_precision(precision, bins)\n\u001b[1;32m    579\u001b[0m     formatter \u001b[39m=\u001b[39m \u001b[39mlambda\u001b[39;00m x: _round_frac(x, precision)\n\u001b[1;32m    580\u001b[0m     adjust \u001b[39m=\u001b[39m \u001b[39mlambda\u001b[39;00m x: x \u001b[39m-\u001b[39m \u001b[39m10\u001b[39m \u001b[39m*\u001b[39m\u001b[39m*\u001b[39m (\u001b[39m-\u001b[39mprecision)\n",
      "File \u001b[0;32m~/miniconda3/envs/cds/lib/python3.10/site-packages/pandas/core/reshape/tile.py:644\u001b[0m, in \u001b[0;36m_infer_precision\u001b[0;34m(base_precision, bins)\u001b[0m\n\u001b[1;32m    640\u001b[0m \u001b[39m\u001b[39m\u001b[39m\"\"\"\u001b[39;00m\n\u001b[1;32m    641\u001b[0m \u001b[39mInfer an appropriate precision for _round_frac\u001b[39;00m\n\u001b[1;32m    642\u001b[0m \u001b[39m\"\"\"\u001b[39;00m\n\u001b[1;32m    643\u001b[0m \u001b[39mfor\u001b[39;00m precision \u001b[39min\u001b[39;00m \u001b[39mrange\u001b[39m(base_precision, \u001b[39m20\u001b[39m):\n\u001b[0;32m--> 644\u001b[0m     levels \u001b[39m=\u001b[39m [_round_frac(b, precision) \u001b[39mfor\u001b[39;00m b \u001b[39min\u001b[39;00m bins]\n\u001b[1;32m    645\u001b[0m     \u001b[39mif\u001b[39;00m algos\u001b[39m.\u001b[39munique(levels)\u001b[39m.\u001b[39msize \u001b[39m==\u001b[39m bins\u001b[39m.\u001b[39msize:\n\u001b[1;32m    646\u001b[0m         \u001b[39mreturn\u001b[39;00m precision\n",
      "File \u001b[0;32m~/miniconda3/envs/cds/lib/python3.10/site-packages/pandas/core/reshape/tile.py:644\u001b[0m, in \u001b[0;36m<listcomp>\u001b[0;34m(.0)\u001b[0m\n\u001b[1;32m    640\u001b[0m \u001b[39m\u001b[39m\u001b[39m\"\"\"\u001b[39;00m\n\u001b[1;32m    641\u001b[0m \u001b[39mInfer an appropriate precision for _round_frac\u001b[39;00m\n\u001b[1;32m    642\u001b[0m \u001b[39m\"\"\"\u001b[39;00m\n\u001b[1;32m    643\u001b[0m \u001b[39mfor\u001b[39;00m precision \u001b[39min\u001b[39;00m \u001b[39mrange\u001b[39m(base_precision, \u001b[39m20\u001b[39m):\n\u001b[0;32m--> 644\u001b[0m     levels \u001b[39m=\u001b[39m [_round_frac(b, precision) \u001b[39mfor\u001b[39;00m b \u001b[39min\u001b[39;00m bins]\n\u001b[1;32m    645\u001b[0m     \u001b[39mif\u001b[39;00m algos\u001b[39m.\u001b[39munique(levels)\u001b[39m.\u001b[39msize \u001b[39m==\u001b[39m bins\u001b[39m.\u001b[39msize:\n\u001b[1;32m    646\u001b[0m         \u001b[39mreturn\u001b[39;00m precision\n",
      "File \u001b[0;32m~/miniconda3/envs/cds/lib/python3.10/site-packages/pandas/core/reshape/tile.py:631\u001b[0m, in \u001b[0;36m_round_frac\u001b[0;34m(x, precision)\u001b[0m\n\u001b[1;32m    629\u001b[0m     \u001b[39mreturn\u001b[39;00m x\n\u001b[1;32m    630\u001b[0m \u001b[39melse\u001b[39;00m:\n\u001b[0;32m--> 631\u001b[0m     frac, whole \u001b[39m=\u001b[39m np\u001b[39m.\u001b[39;49mmodf(x)\n\u001b[1;32m    632\u001b[0m     \u001b[39mif\u001b[39;00m whole \u001b[39m==\u001b[39m \u001b[39m0\u001b[39m:\n\u001b[1;32m    633\u001b[0m         digits \u001b[39m=\u001b[39m \u001b[39m-\u001b[39m\u001b[39mint\u001b[39m(np\u001b[39m.\u001b[39mfloor(np\u001b[39m.\u001b[39mlog10(\u001b[39mabs\u001b[39m(frac)))) \u001b[39m-\u001b[39m \u001b[39m1\u001b[39m \u001b[39m+\u001b[39m precision\n",
      "\u001b[0;31mKeyboardInterrupt\u001b[0m: "
     ]
    }
   ],
   "source": [
    "#####################################################################################\n",
    "#***************IMP: Update coding environment********************\n",
    "#####################################################################################\n",
    "code_env = CODE_ENV.WSL\n",
    "curr_dataset = DATASET_ID.Second\n",
    "\n",
    "dataset_paths = get_dataset_paths(code_env)\n",
    "\n",
    "autoencoder_lstm_main.main_generate_timefeatures(code_env)\n",
    "\n",
    "autoencoder_lstm_main.main_generate_scalers()"
   ]
  },
  {
   "cell_type": "code",
   "execution_count": null,
   "metadata": {},
   "outputs": [],
   "source": [
    "results = autoencoder_lstm_main.main_generate_autoencoder_lstm_models(isWithValidation=True, save_plots=True)"
   ]
  },
  {
   "cell_type": "code",
   "execution_count": null,
   "metadata": {},
   "outputs": [],
   "source": [
    "# plot the training losses\n",
    "fig, ax = plt.subplots(figsize=(14, 6), dpi=80)\n",
    "ax.plot(history['loss'], 'b', label='Train', linewidth=2)\n",
    "ax.plot(history['val_loss'], 'r', label='Validation', linewidth=2)\n",
    "ax.set_title('Model loss', fontsize=16)\n",
    "ax.set_ylabel('Loss (mae)')\n",
    "ax.set_xlabel('Epoch')\n",
    "ax.legend(loc='upper right')\n",
    "plt.show()\n"
   ]
  },
  {
   "cell_type": "code",
   "execution_count": null,
   "metadata": {},
   "outputs": [],
   "source": [
    "plt.figure(figsize=(8,4), dpi=80)\n",
    "plt.title('Loss Distribution', fontsize=16)\n",
    "sns.histplot(train_scored['Loss_mae'], bins = 20, kde= True, color = 'blue');\n",
    "plt.xlim([0.0,.5])\n"
   ]
  },
  {
   "cell_type": "code",
   "execution_count": null,
   "metadata": {},
   "outputs": [],
   "source": [
    "train_scored.plot(logy=True,  figsize=(8,4), ylim=[1e-2,1e2], color=['blue','red'])\n",
    "plt.show()\n"
   ]
  },
  {
   "cell_type": "code",
   "execution_count": null,
   "metadata": {},
   "outputs": [],
   "source": [
    "# plot bearing failure time plot\n",
    "test_scored.plot(logy=True,  figsize=(8,4), ylim=[1e-2,1e2], color=['blue','red'])\n",
    "plt.show()\n"
   ]
  },
  {
   "cell_type": "code",
   "execution_count": null,
   "metadata": {},
   "outputs": [],
   "source": [
    "scored = pd.concat([train_scored, test_scored])\n",
    "# plot bearing failure time plot\n",
    "scored.plot(logy=True,  figsize=(8,4), ylim=[1e-2,1e2], color=['blue','red'])\n",
    "plt.show()\n"
   ]
  },
  {
   "cell_type": "markdown",
   "metadata": {},
   "source": [
    " # Testing"
   ]
  },
  {
   "cell_type": "code",
   "execution_count": null,
   "metadata": {},
   "outputs": [],
   "source": [
    "results = autoencoder_lstm_main.main_predict_autoencoder_lstm_models(draw_plots=True)"
   ]
  },
  {
   "cell_type": "code",
   "execution_count": null,
   "metadata": {},
   "outputs": [],
   "source": [
    "# plot bearing failure time plot\n",
    "scored.plot(logy=True,  figsize=(8,4), ylim=[1e-2,1e2], color=['blue','red'])\n",
    "plt.show()\n",
    "pass"
   ]
  }
 ],
 "metadata": {
  "kernelspec": {
   "display_name": "cds",
   "language": "python",
   "name": "python3"
  },
  "language_info": {
   "codemirror_mode": {
    "name": "ipython",
    "version": 3
   },
   "file_extension": ".py",
   "mimetype": "text/x-python",
   "name": "python",
   "nbconvert_exporter": "python",
   "pygments_lexer": "ipython3",
   "version": "3.10.10"
  },
  "orig_nbformat": 4
 },
 "nbformat": 4,
 "nbformat_minor": 2
}
