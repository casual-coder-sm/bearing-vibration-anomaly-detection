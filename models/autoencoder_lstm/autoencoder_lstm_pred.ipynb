{
 "cells": [
  {
   "cell_type": "code",
   "execution_count": 7,
   "metadata": {},
   "outputs": [],
   "source": [
    "import os\n",
    "from  sys import path as sys_path\n",
    "\n",
    "import pandas as pd"
   ]
  },
  {
   "cell_type": "code",
   "execution_count": 5,
   "metadata": {},
   "outputs": [],
   "source": [
    "curr_dir = os.getcwd()\n",
    "#check in the order sub-directory to main-directory\n",
    "if 'autoencoder_lstm' in  curr_dir:\n",
    "    os.chdir('..')\n",
    "if 'models' in curr_dir in curr_dir:\n",
    "    pass\n",
    "elif 'bearing-vibration-anomaly-detection' in curr_dir:\n",
    "    os.chdir('./models')\n",
    "curr_dir = os.getcwd()\n",
    "sys_path.insert(0, curr_dir+'/models')\n",
    "sys_path.insert(1, curr_dir+'/autoencoder_lstm')\n",
    "\n",
    "import model_feedinput_pipeline\n",
    "from model_feedinput_pipeline import CODE_ENV, DATASET_ID\n",
    "import autoencoder_lstm_generate_features as ae_timefeatures"
   ]
  },
  {
   "cell_type": "code",
   "execution_count": 13,
   "metadata": {},
   "outputs": [
    {
     "name": "stdout",
     "output_type": "stream",
     "text": [
      "Number of records in TimeFeatureData= 2156\n"
     ]
    }
   ],
   "source": [
    "#####################################################################################\n",
    "#***************IMP: Update coding environment********************\n",
    "#####################################################################################\n",
    "code_env = CODE_ENV.WSL\n",
    "curr_dataset = DATASET_ID.First\n",
    "\n",
    "#Step 1 : Setup Data Source\n",
    "dataset_paths = model_feedinput_pipeline.get_dataset_paths(code_env)   \n",
    "\n",
    "#Step 2 : Read the time features generated earlier\n",
    "time_feature_data_filename=['timefeatures_1st_1.csv', 'timefeatures_1st_2.csv',\n",
    "                            'timefeatures_2nd.csv', 'timefeatures_3rd.csv']\n",
    "\n",
    "tf_file_indx = 0\n",
    "cut_off_date_time = '2003-11-20 23:54:03'\n",
    "if curr_dataset == DATASET_ID.First:\n",
    "    tf_file_indx = 0 #0 or 1\n",
    "    cut_off_date_time = '2003-11-20 23:54:03'\n",
    "elif curr_dataset == DATASET_ID.Second:\n",
    "    tf_file_indx = 2\n",
    "    cut_off_date_time = '2004-02-15 12:52:39'\n",
    "elif curr_dataset == DATASET_ID.Third:\n",
    "    tf_file_indx = 3\n",
    "    cut_off_date_time = '2004-04-08 23:51:57'\n",
    "\n",
    "time_features_data = pd.read_csv(time_feature_data_filename[tf_file_indx])\n",
    "print('Number of records in TimeFeatureData=', len(time_features_data))\n",
    "\n"
   ]
  },
  {
   "cell_type": "code",
   "execution_count": 11,
   "metadata": {},
   "outputs": [
    {
     "data": {
      "text/plain": [
       "2156"
      ]
     },
     "execution_count": 11,
     "metadata": {},
     "output_type": "execute_result"
    }
   ],
   "source": []
  }
 ],
 "metadata": {
  "kernelspec": {
   "display_name": "cds",
   "language": "python",
   "name": "python3"
  },
  "language_info": {
   "codemirror_mode": {
    "name": "ipython",
    "version": 3
   },
   "file_extension": ".py",
   "mimetype": "text/x-python",
   "name": "python",
   "nbconvert_exporter": "python",
   "pygments_lexer": "ipython3",
   "version": "3.9.13"
  },
  "orig_nbformat": 4
 },
 "nbformat": 4,
 "nbformat_minor": 2
}
