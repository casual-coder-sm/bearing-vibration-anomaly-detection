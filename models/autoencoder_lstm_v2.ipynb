{
 "cells": [
  {
   "cell_type": "code",
   "execution_count": 8,
   "metadata": {},
   "outputs": [],
   "source": [
    "import model_feedinput_pipeline\n",
    "from model_feedinput_pipeline import CODE_ENV"
   ]
  },
  {
   "cell_type": "code",
   "execution_count": 11,
   "metadata": {},
   "outputs": [
    {
     "name": "stdout",
     "output_type": "stream",
     "text": [
      "Number of files in 1st Dataset: 2156 first file= g:/My Drive/github/bearing-vibration-anomaly-detection/models/capstone-data/01_PHM-Bearing/1st_test/2003.10.22.12.06.24\n",
      "Number of files in 2nd Dataset: 984 first file= g:/My Drive/github/bearing-vibration-anomaly-detection/models/capstone-data/01_PHM-Bearing/2nd_test/2004.02.12.10.32.39\n",
      "Number of files in 3rd Dataset: 6324 first file= g:/My Drive/github/bearing-vibration-anomaly-detection/models/capstone-data/01_PHM-Bearing/3rd_test/2004.03.04.09.27.46\n"
     ]
    }
   ],
   "source": [
    "select_input_stepsize= 3000\n",
    "\n",
    "#####################################################################################\n",
    "#***************IMP: Update coding environment********************\n",
    "#####################################################################################\n",
    "code_env = CODE_ENV.WIN\n",
    "\n",
    "dataset_paths = model_feedinput_pipeline.get_dataset_paths(code_env)\n"
   ]
  }
 ],
 "metadata": {
  "kernelspec": {
   "display_name": "cds",
   "language": "python",
   "name": "python3"
  },
  "language_info": {
   "codemirror_mode": {
    "name": "ipython",
    "version": 3
   },
   "file_extension": ".py",
   "mimetype": "text/x-python",
   "name": "python",
   "nbconvert_exporter": "python",
   "pygments_lexer": "ipython3",
   "version": "3.11.2"
  },
  "orig_nbformat": 4
 },
 "nbformat": 4,
 "nbformat_minor": 2
}
