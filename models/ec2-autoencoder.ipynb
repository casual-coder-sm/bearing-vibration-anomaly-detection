{
 "cells": [
  {
   "cell_type": "code",
   "execution_count": 1,
   "metadata": {},
   "outputs": [],
   "source": [
    "from pathlib import Path\n",
    "\n",
    "import boto3"
   ]
  },
  {
   "cell_type": "code",
   "execution_count": 2,
   "metadata": {},
   "outputs": [],
   "source": [
    "flag_is_ec2 = True"
   ]
  },
  {
   "cell_type": "code",
   "execution_count": 4,
   "metadata": {},
   "outputs": [
    {
     "ename": "ClientError",
     "evalue": "An error occurred (AccessDenied) when calling the ListObjects operation: Access Denied",
     "output_type": "error",
     "traceback": [
      "\u001b[0;31m---------------------------------------------------------------------------\u001b[0m",
      "\u001b[0;31mClientError\u001b[0m                               Traceback (most recent call last)",
      "Cell \u001b[0;32mIn[4], line 10\u001b[0m\n\u001b[1;32m      7\u001b[0m s3_bucket \u001b[39m=\u001b[39m aws_s3\u001b[39m.\u001b[39mBucket(\u001b[39m'\u001b[39m\u001b[39manomaly-detection-from-bearing-vibration-project-bucket\u001b[39m\u001b[39m'\u001b[39m)\n\u001b[1;32m      9\u001b[0m s3_bucket_objects\u001b[39m=\u001b[39m[]\n\u001b[0;32m---> 10\u001b[0m \u001b[39mfor\u001b[39;00m s3_bucket_object \u001b[39min\u001b[39;00m s3_bucket\u001b[39m.\u001b[39mobjects\u001b[39m.\u001b[39mall():\n\u001b[1;32m     11\u001b[0m     s3_bucket_objects\u001b[39m.\u001b[39mappend(s3_bucket_object)\n",
      "File \u001b[0;32m~/miniconda3/lib/python3.10/site-packages/boto3/resources/collection.py:81\u001b[0m, in \u001b[0;36mResourceCollection.__iter__\u001b[0;34m(self)\u001b[0m\n\u001b[1;32m     78\u001b[0m limit \u001b[39m=\u001b[39m \u001b[39mself\u001b[39m\u001b[39m.\u001b[39m_params\u001b[39m.\u001b[39mget(\u001b[39m'\u001b[39m\u001b[39mlimit\u001b[39m\u001b[39m'\u001b[39m, \u001b[39mNone\u001b[39;00m)\n\u001b[1;32m     80\u001b[0m count \u001b[39m=\u001b[39m \u001b[39m0\u001b[39m\n\u001b[0;32m---> 81\u001b[0m \u001b[39mfor\u001b[39;00m page \u001b[39min\u001b[39;00m \u001b[39mself\u001b[39m\u001b[39m.\u001b[39mpages():\n\u001b[1;32m     82\u001b[0m     \u001b[39mfor\u001b[39;00m item \u001b[39min\u001b[39;00m page:\n\u001b[1;32m     83\u001b[0m         \u001b[39myield\u001b[39;00m item\n",
      "File \u001b[0;32m~/miniconda3/lib/python3.10/site-packages/boto3/resources/collection.py:171\u001b[0m, in \u001b[0;36mResourceCollection.pages\u001b[0;34m(self)\u001b[0m\n\u001b[1;32m    168\u001b[0m \u001b[39m# Now that we have a page iterator or single page of results\u001b[39;00m\n\u001b[1;32m    169\u001b[0m \u001b[39m# we start processing and yielding individual items.\u001b[39;00m\n\u001b[1;32m    170\u001b[0m count \u001b[39m=\u001b[39m \u001b[39m0\u001b[39m\n\u001b[0;32m--> 171\u001b[0m \u001b[39mfor\u001b[39;00m page \u001b[39min\u001b[39;00m pages:\n\u001b[1;32m    172\u001b[0m     page_items \u001b[39m=\u001b[39m []\n\u001b[1;32m    173\u001b[0m     \u001b[39mfor\u001b[39;00m item \u001b[39min\u001b[39;00m \u001b[39mself\u001b[39m\u001b[39m.\u001b[39m_handler(\u001b[39mself\u001b[39m\u001b[39m.\u001b[39m_parent, params, page):\n",
      "File \u001b[0;32m~/miniconda3/lib/python3.10/site-packages/botocore/paginate.py:269\u001b[0m, in \u001b[0;36mPageIterator.__iter__\u001b[0;34m(self)\u001b[0m\n\u001b[1;32m    267\u001b[0m \u001b[39mself\u001b[39m\u001b[39m.\u001b[39m_inject_starting_params(current_kwargs)\n\u001b[1;32m    268\u001b[0m \u001b[39mwhile\u001b[39;00m \u001b[39mTrue\u001b[39;00m:\n\u001b[0;32m--> 269\u001b[0m     response \u001b[39m=\u001b[39m \u001b[39mself\u001b[39;49m\u001b[39m.\u001b[39;49m_make_request(current_kwargs)\n\u001b[1;32m    270\u001b[0m     parsed \u001b[39m=\u001b[39m \u001b[39mself\u001b[39m\u001b[39m.\u001b[39m_extract_parsed_response(response)\n\u001b[1;32m    271\u001b[0m     \u001b[39mif\u001b[39;00m first_request:\n\u001b[1;32m    272\u001b[0m         \u001b[39m# The first request is handled differently.  We could\u001b[39;00m\n\u001b[1;32m    273\u001b[0m         \u001b[39m# possibly have a resume/starting token that tells us where\u001b[39;00m\n\u001b[1;32m    274\u001b[0m         \u001b[39m# to index into the retrieved page.\u001b[39;00m\n",
      "File \u001b[0;32m~/miniconda3/lib/python3.10/site-packages/botocore/paginate.py:357\u001b[0m, in \u001b[0;36mPageIterator._make_request\u001b[0;34m(self, current_kwargs)\u001b[0m\n\u001b[1;32m    356\u001b[0m \u001b[39mdef\u001b[39;00m \u001b[39m_make_request\u001b[39m(\u001b[39mself\u001b[39m, current_kwargs):\n\u001b[0;32m--> 357\u001b[0m     \u001b[39mreturn\u001b[39;00m \u001b[39mself\u001b[39;49m\u001b[39m.\u001b[39;49m_method(\u001b[39m*\u001b[39;49m\u001b[39m*\u001b[39;49mcurrent_kwargs)\n",
      "File \u001b[0;32m~/miniconda3/lib/python3.10/site-packages/botocore/client.py:508\u001b[0m, in \u001b[0;36mClientCreator._create_api_method.<locals>._api_call\u001b[0;34m(self, *args, **kwargs)\u001b[0m\n\u001b[1;32m    504\u001b[0m     \u001b[39mraise\u001b[39;00m \u001b[39mTypeError\u001b[39;00m(\n\u001b[1;32m    505\u001b[0m         \u001b[39mf\u001b[39m\u001b[39m\"\u001b[39m\u001b[39m{\u001b[39;00mpy_operation_name\u001b[39m}\u001b[39;00m\u001b[39m() only accepts keyword arguments.\u001b[39m\u001b[39m\"\u001b[39m\n\u001b[1;32m    506\u001b[0m     )\n\u001b[1;32m    507\u001b[0m \u001b[39m# The \"self\" in this scope is referring to the BaseClient.\u001b[39;00m\n\u001b[0;32m--> 508\u001b[0m \u001b[39mreturn\u001b[39;00m \u001b[39mself\u001b[39;49m\u001b[39m.\u001b[39;49m_make_api_call(operation_name, kwargs)\n",
      "File \u001b[0;32m~/miniconda3/lib/python3.10/site-packages/botocore/client.py:915\u001b[0m, in \u001b[0;36mBaseClient._make_api_call\u001b[0;34m(self, operation_name, api_params)\u001b[0m\n\u001b[1;32m    913\u001b[0m     error_code \u001b[39m=\u001b[39m parsed_response\u001b[39m.\u001b[39mget(\u001b[39m\"\u001b[39m\u001b[39mError\u001b[39m\u001b[39m\"\u001b[39m, {})\u001b[39m.\u001b[39mget(\u001b[39m\"\u001b[39m\u001b[39mCode\u001b[39m\u001b[39m\"\u001b[39m)\n\u001b[1;32m    914\u001b[0m     error_class \u001b[39m=\u001b[39m \u001b[39mself\u001b[39m\u001b[39m.\u001b[39mexceptions\u001b[39m.\u001b[39mfrom_code(error_code)\n\u001b[0;32m--> 915\u001b[0m     \u001b[39mraise\u001b[39;00m error_class(parsed_response, operation_name)\n\u001b[1;32m    916\u001b[0m \u001b[39melse\u001b[39;00m:\n\u001b[1;32m    917\u001b[0m     \u001b[39mreturn\u001b[39;00m parsed_response\n",
      "\u001b[0;31mClientError\u001b[0m: An error occurred (AccessDenied) when calling the ListObjects operation: Access Denied"
     ]
    }
   ],
   "source": [
    "if flag_is_ec2 == True:\n",
    "    #To access 's3' without any access key embedded following dependencies shall be met:\n",
    "    # 1. Role : Allow-BAD-Project-S3-Passrole-to-EC2 \n",
    "    # 2. Policy for user            : BearingAnomalyDetection_OperateS3Bucket\n",
    "\n",
    "    aws_s3 = boto3.resource('s3')\n",
    "    s3_bucket = aws_s3.Bucket('anomaly-detection-from-bearing-vibration-project-bucket')\n",
    "\n",
    "    s3_bucket_objects=[]\n",
    "    for s3_bucket_object in s3_bucket.objects.all():\n",
    "        s3_bucket_objects.append(s3_bucket_object)"
   ]
  },
  {
   "cell_type": "code",
   "execution_count": null,
   "metadata": {},
   "outputs": [],
   "source": [
    "s3_objects_1st_dataset=[]\n",
    "s3_objects_2nd_dataset=[]\n",
    "s3_objects_3rd_dataset=[]\n",
    "paths = []\n",
    "\n",
    "for s3_object in s3_bucket_objects:\n",
    "    path_parts = Path(s3_object.key).parts\n",
    "    if len(path_parts) == 4 and path_parts[0] == 'data_input' and path_parts[1] == 'IMS':\n",
    "        paths.append(s3_object)\n",
    "        if path_parts[2] == '1st_test':\n",
    "            s3_objects_1st_dataset.append(s3_object)\n",
    "        elif path_parts[2] == '2nd_test':\n",
    "            s3_objects_2nd_dataset.append(s3_object)\n",
    "        else:\n",
    "            s3_objects_3rd_dataset.append(s3_object)\n",
    "\n",
    "print('Number of files in 1st Dataset:', len(s3_objects_1st_dataset), 'first file=', s3_objects_1st_dataset[0].key)\n",
    "print('Number of files in 2nd Dataset:', len(s3_objects_2nd_dataset), 'first file=', s3_objects_2nd_dataset[0].key)\n",
    "print('Number of files in 3rd Dataset:', len(s3_objects_3rd_dataset), 'first file=', s3_objects_3rd_dataset[0].key)"
   ]
  },
  {
   "cell_type": "code",
   "execution_count": null,
   "metadata": {},
   "outputs": [],
   "source": [
    "#1st Set has 8 \n",
    "col_names_1st = ['b1_ch1', 'b1_ch2', 'b2_ch3', 'b2_ch4', 'b3_ch5', 'b3_ch6', 'b4_ch7', 'b4_ch8']\n",
    "#2nd and 3rd has 4\n",
    "col_names_2nd_3rd = ['b1_ch1', 'b2_ch2', 'b3_ch3', 'b4_ch4']\n",
    "\n",
    "data_set_paths=[]\n",
    "data_set_paths= [s3_objects_1st_dataset, s3_objects_2nd_dataset, s3_objects_3rd_dataset]"
   ]
  },
  {
   "cell_type": "code",
   "execution_count": null,
   "metadata": {},
   "outputs": [],
   "source": []
  },
  {
   "cell_type": "code",
   "execution_count": null,
   "metadata": {},
   "outputs": [],
   "source": [
    "from io import BytesIO\n",
    "import pandas as pd\n",
    "\n",
    "df = []\n",
    "for s3_object in s3_objects_1st_dataset[:1]:\n",
    "    data = s3_object.get()['Body'].read()\n",
    "    df.append(pd.read_csv(BytesIO(data), header=None, delimiter='\\t', low_memory='False'))\n"
   ]
  },
  {
   "cell_type": "code",
   "execution_count": null,
   "metadata": {},
   "outputs": [],
   "source": [
    "df[0]"
   ]
  }
 ],
 "metadata": {
  "kernelspec": {
   "display_name": "base",
   "language": "python",
   "name": "python3"
  },
  "language_info": {
   "codemirror_mode": {
    "name": "ipython",
    "version": 3
   },
   "file_extension": ".py",
   "mimetype": "text/x-python",
   "name": "python",
   "nbconvert_exporter": "python",
   "pygments_lexer": "ipython3",
   "version": "3.10.9"
  },
  "orig_nbformat": 4
 },
 "nbformat": 4,
 "nbformat_minor": 2
}
